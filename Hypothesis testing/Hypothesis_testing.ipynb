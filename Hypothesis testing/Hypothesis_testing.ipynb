{
 "cells": [
  {
   "cell_type": "markdown",
   "metadata": {
    "id": "dDQHCKy5krvk"
   },
   "source": [
    "# ***Hypothesis Testing***"
   ]
  },
  {
   "cell_type": "markdown",
   "metadata": {
    "id": "Sbtb-rzfkw1d"
   },
   "source": [
    "## **Task 1: State the Hypotheses statement:**"
   ]
  },
  {
   "cell_type": "markdown",
   "metadata": {
    "id": "eNGx8oiYk7Lb"
   },
   "source": [
    "**Null Hypothesis (H0): The mean weekly operating cost is equal to the theoretical mean weekly cost according to the cost model (W = $1,000 + $5X).**\n",
    "\n",
    "**Alternative Hypothesis (H1): The mean weekly operating cost is higher than the theoretical mean weekly cost according to the cost model**"
   ]
  },
  {
   "cell_type": "markdown",
   "metadata": {
    "id": "3KfBlWhomIT8"
   },
   "source": [
    "## **Task 2: Calculate the Test Statistic:**\n",
    "**Use the following formula to calculate the test statistic (t):\n",
    "where:\n",
    "    •\tˉxˉ = sample mean weekly cost (Rs. 3,050)\n",
    "    •\tμ = theoretical mean weekly cost according to the cost model (W = $1,000 + $5X for X = 600 units)\n",
    "    •\tσ = 5*25 units\n",
    "    •\tn = sample size (25 restaurants)**\n"
   ]
  },
  {
   "cell_type": "code",
   "execution_count": 35,
   "metadata": {
    "colab": {
     "base_uri": "https://localhost:8080/"
    },
    "id": "Hi5hhOwVmZCK",
    "outputId": "f64e5e1c-51ee-4427-b853-712b37fdcf18"
   },
   "outputs": [
    {
     "name": "stdout",
     "output_type": "stream",
     "text": [
      "Test Statistic: -38.0\n"
     ]
    }
   ],
   "source": [
    "import numpy as np\n",
    "\n",
    "# Given data\n",
    "sample_mean = 3050\n",
    "theoretical_mean = 1000 + 5 * 600\n",
    "population_std = 5 * 25\n",
    "n = 25\n",
    "\n",
    "# Calculate the test statistic\n",
    "test_statistic = (sample_mean - theoretical_mean) / (population_std / np.sqrt(n))\n",
    "\n",
    "print(\"Test Statistic:\", test_statistic)\n"
   ]
  },
  {
   "cell_type": "markdown",
   "metadata": {
    "id": "J78dvYDymvxx"
   },
   "source": [
    "## Task 3. Determine the Critical Value:\n",
    "### Using the alpha level of 5% (α = 0.05), determine the critical value from the standard normal (Z) distribution table.\n"
   ]
  },
  {
   "cell_type": "code",
   "execution_count": 36,
   "metadata": {
    "colab": {
     "base_uri": "https://localhost:8080/"
    },
    "id": "AuuK1OjEm3z5",
    "outputId": "4def5b9b-7611-432d-8fb2-0613b35ddcd9"
   },
   "outputs": [
    {
     "name": "stdout",
     "output_type": "stream",
     "text": [
      "Critical Value: 1.6448536269514722\n"
     ]
    }
   ],
   "source": [
    "from scipy.stats import norm\n",
    "\n",
    "# Given alpha level\n",
    "alpha = 0.05\n",
    "\n",
    "# Determine the critical value\n",
    "critical_value = norm.ppf(1 - alpha)\n",
    "\n",
    "print(\"Critical Value:\", critical_value)\n"
   ]
  },
  {
   "cell_type": "markdown",
   "metadata": {
    "id": "XMKMlyj3nMM4"
   },
   "source": [
    "## Task 4: Make a Decision:\n",
    "**Compare the test statistic with the critical value to decide whether to reject the null hypothesis.**\n"
   ]
  },
  {
   "cell_type": "code",
   "execution_count": 37,
   "metadata": {
    "colab": {
     "base_uri": "https://localhost:8080/"
    },
    "id": "ooZQ4ytNnTjp",
    "outputId": "09ab0b76-b1dd-4476-8b9c-c891d110a7f8"
   },
   "outputs": [
    {
     "name": "stdout",
     "output_type": "stream",
     "text": [
      "Decision: Fail to reject null hypothesis\n"
     ]
    }
   ],
   "source": [
    "# Compare the test statistic with the critical value\n",
    "if test_statistic > critical_value:\n",
    "    decision = \"Reject null hypothesis\"\n",
    "else:\n",
    "    decision = \"Fail to reject null hypothesis\"\n",
    "\n",
    "print(\"Decision:\", decision)\n"
   ]
  },
  {
   "cell_type": "markdown",
   "metadata": {
    "id": "qMtT8Kv5nfYg"
   },
   "source": [
    "## Task 5: Conclusion:\n",
    "**Based on the decision in step 4, conclude whether there is strong evidence to support the restaurant owners' claim that the weekly operating costs are higher than the model suggests.**\n"
   ]
  },
  {
   "cell_type": "markdown",
   "metadata": {},
   "source": [
    "based on the task 4 we will get to know whether to reject the null hypothesis or to accept it.\n",
    "\n",
    "if we reject the null hypothesis in step 4 it means that that the observed mean weekly operating cost is significantly higher than the theoretical mean weekly cost according to the cost model. In this case, we can support the restaurant owners claim.\n",
    "\n",
    "if we fail to reject the null hypothesis it means  that there is not enough evidence to conclude that the observed mean weekly operating cost is significantly higher than the theoretical mean weekly cost according to the cost model. In this case, we cannot support the restaurant owners claim."
   ]
  }
 ],
 "metadata": {
  "colab": {
   "provenance": []
  },
  "kernelspec": {
   "display_name": "Python 3 (ipykernel)",
   "language": "python",
   "name": "python3"
  },
  "language_info": {
   "codemirror_mode": {
    "name": "ipython",
    "version": 3
   },
   "file_extension": ".py",
   "mimetype": "text/x-python",
   "name": "python",
   "nbconvert_exporter": "python",
   "pygments_lexer": "ipython3",
   "version": "3.9.12"
  }
 },
 "nbformat": 4,
 "nbformat_minor": 1
}
