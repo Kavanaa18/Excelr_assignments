{
 "cells": [
  {
   "cell_type": "markdown",
   "metadata": {
    "id": "3lJDiQdAopXY"
   },
   "source": [
    "# **CHI-SQUARE TEST**"
   ]
  },
  {
   "cell_type": "markdown",
   "metadata": {
    "id": "l30hkuBapHbm"
   },
   "source": [
    "## Task 1. State the Hypotheses"
   ]
  },
  {
   "cell_type": "markdown",
   "metadata": {
    "id": "NoWnR1etpMz-"
   },
   "source": [
    "Null Hypothesis (H0): it claims that there is no relationship between two sets of data or variables \n",
    "\n",
    "Alternative Hypothesis (H1): Alternative hypothesis suggests that there is an effect of relationship between two sets of data or variables."
   ]
  },
  {
   "cell_type": "markdown",
   "metadata": {
    "id": "f2V1pFjrpVWe"
   },
   "source": [
    "## Task 2. Compute the Chi-Square Statistic"
   ]
  },
  {
   "cell_type": "code",
   "execution_count": 8,
   "metadata": {
    "id": "VhvhNFYUph2f"
   },
   "outputs": [],
   "source": [
    "import numpy as np\n",
    "from scipy.stats import chi2_contingency"
   ]
  },
  {
   "cell_type": "code",
   "execution_count": 14,
   "metadata": {
    "id": "a9m2W7vqptJG"
   },
   "outputs": [],
   "source": [
    "#contingency table\n",
    "\n",
    "observed = np.array([[50, 70],\n",
    "                     [80, 100],\n",
    "                     [60, 90],\n",
    "                     [30, 50],\n",
    "                     [20, 50]])\n"
   ]
  },
  {
   "cell_type": "code",
   "execution_count": 15,
   "metadata": {
    "colab": {
     "base_uri": "https://localhost:8080/"
    },
    "id": "4epN_HiTpv9G",
    "outputId": "2563fed5-5e22-4a7e-bea1-74bba5531df7"
   },
   "outputs": [
    {
     "name": "stdout",
     "output_type": "stream",
     "text": [
      "Chi-Square Statistic: 5.638227513227513\n",
      "Degrees of Freedom: 8\n",
      "P-value: 0.687682126979996\n"
     ]
    }
   ],
   "source": [
    "#Computing the Chi-Square statistic\n",
    "chi2_stat, p_val, dof, expected = chi2_contingency(observed)\n",
    "\n",
    "print(\"Chi-Square Statistic:\", chi2_stat)\n",
    "print(\"Degrees of Freedom:\", dof)\n",
    "print(\"P-value:\", p_val)\n",
    "\n",
    "#This calculates the Chi-Square statistic, degrees of freedom, and p-value \n",
    "# The chi2_contingency() function returns these values"
   ]
  },
  {
   "cell_type": "markdown",
   "metadata": {
    "id": "lsFd6aNtp7gH"
   },
   "source": [
    "## 3. Determine the Critical Value:\n",
    "Using the significance level (alpha) of 0.05 and the degrees of freedom (which is the number of categories minus 1)\n"
   ]
  },
  {
   "cell_type": "code",
   "execution_count": 16,
   "metadata": {
    "id": "n0Qcs0p9qAen"
   },
   "outputs": [],
   "source": [
    "from scipy.stats import chi2\n",
    "\n",
    "# given significance level (alpha)\n",
    "alpha = 0.05"
   ]
  },
  {
   "cell_type": "code",
   "execution_count": 17,
   "metadata": {
    "id": "uyf27ivCqCs_"
   },
   "outputs": [],
   "source": [
    "# Degrees of freedom\n",
    "n=5\n",
    "df = (n-1) # n = num of cat"
   ]
  },
  {
   "cell_type": "code",
   "execution_count": 18,
   "metadata": {
    "colab": {
     "base_uri": "https://localhost:8080/"
    },
    "id": "7cZZcO0KqEI-",
    "outputId": "fcabb3a6-04eb-4a6b-ebfc-9f503c0cc7b6"
   },
   "outputs": [
    {
     "name": "stdout",
     "output_type": "stream",
     "text": [
      "Critical Value: 9.487729036781154\n"
     ]
    }
   ],
   "source": [
    "# Determining the critical value\n",
    "critical_value = chi2.ppf(1 - alpha, df)\n",
    "\n",
    "print(\"Critical Value:\", critical_value)"
   ]
  },
  {
   "cell_type": "markdown",
   "metadata": {
    "id": "Js4MkCKhqLjC"
   },
   "source": [
    "## Task 4. Make a Decision:\n",
    "Compare the Chi-Square statistic with the critical value to decide whether to reject the null hypothesis.\n"
   ]
  },
  {
   "cell_type": "code",
   "execution_count": 20,
   "metadata": {
    "colab": {
     "base_uri": "https://localhost:8080/"
    },
    "id": "-M9EBc66qNMe",
    "outputId": "eadc632a-63cc-4a75-a145-80ffc8f89819"
   },
   "outputs": [
    {
     "name": "stdout",
     "output_type": "stream",
     "text": [
      "Decision: Fail to reject null hypothesis\n"
     ]
    }
   ],
   "source": [
    "# Compare the Chi-Square statistic with the critical value\n",
    "\n",
    "#To make a decision, we compare the calculated Chi-Square statistic with the critical value:\n",
    "\n",
    "#If the Chi-Square statistic is greater than the critical value, we reject the null hypothesis.\n",
    "#If the Chi-Square statistic is less than or equal to the critical value, we fail to reject the null hypothesis.\n",
    "\n",
    "if chi2_stat > critical_value:\n",
    "    decision = \"Reject null hypothesis\"\n",
    "else:\n",
    "    decision = \"Fail to reject null hypothesis\"\n",
    "\n",
    "print(\"Decision:\", decision)\n"
   ]
  },
  {
   "cell_type": "code",
   "execution_count": null,
   "metadata": {
    "id": "7zDLbfleqOju"
   },
   "outputs": [],
   "source": []
  }
 ],
 "metadata": {
  "colab": {
   "provenance": []
  },
  "kernelspec": {
   "display_name": "Python 3 (ipykernel)",
   "language": "python",
   "name": "python3"
  },
  "language_info": {
   "codemirror_mode": {
    "name": "ipython",
    "version": 3
   },
   "file_extension": ".py",
   "mimetype": "text/x-python",
   "name": "python",
   "nbconvert_exporter": "python",
   "pygments_lexer": "ipython3",
   "version": "3.9.12"
  }
 },
 "nbformat": 4,
 "nbformat_minor": 1
}
