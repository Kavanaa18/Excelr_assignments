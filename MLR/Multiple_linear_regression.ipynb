{
 "cells": [
  {
   "cell_type": "markdown",
   "metadata": {
    "id": "Y1QehEUZfcSj"
   },
   "source": [
    "# Multiple Linear Regression"
   ]
  },
  {
   "cell_type": "markdown",
   "metadata": {
    "id": "E5I7MhY_fg7A"
   },
   "source": [
    "### Task 1: Perform exploratory data analysis (EDA) to gain insights into the dataset. Provide visualizations and summary statistics of the variables. Pre process the data to apply the MLR."
   ]
  },
  {
   "cell_type": "code",
   "execution_count": 1,
   "metadata": {
    "id": "_KG0aYMrffhA"
   },
   "outputs": [],
   "source": [
    "import pandas as pd\n",
    "import seaborn as sns\n",
    "import matplotlib.pyplot as plt"
   ]
  },
  {
   "cell_type": "code",
   "execution_count": 24,
   "metadata": {
    "colab": {
     "base_uri": "https://localhost:8080/"
    },
    "id": "f_RN1sFrfsbA",
    "outputId": "684cc421-11fe-490c-e5c3-cda5faa7e84c"
   },
   "outputs": [
    {
     "data": {
      "text/html": [
       "<div>\n",
       "<style scoped>\n",
       "    .dataframe tbody tr th:only-of-type {\n",
       "        vertical-align: middle;\n",
       "    }\n",
       "\n",
       "    .dataframe tbody tr th {\n",
       "        vertical-align: top;\n",
       "    }\n",
       "\n",
       "    .dataframe thead th {\n",
       "        text-align: right;\n",
       "    }\n",
       "</style>\n",
       "<table border=\"1\" class=\"dataframe\">\n",
       "  <thead>\n",
       "    <tr style=\"text-align: right;\">\n",
       "      <th></th>\n",
       "      <th>Price</th>\n",
       "      <th>Age_08_04</th>\n",
       "      <th>KM</th>\n",
       "      <th>Fuel_Type</th>\n",
       "      <th>HP</th>\n",
       "      <th>Automatic</th>\n",
       "      <th>cc</th>\n",
       "      <th>Doors</th>\n",
       "      <th>Cylinders</th>\n",
       "      <th>Gears</th>\n",
       "      <th>Weight</th>\n",
       "    </tr>\n",
       "  </thead>\n",
       "  <tbody>\n",
       "    <tr>\n",
       "      <th>0</th>\n",
       "      <td>13500</td>\n",
       "      <td>23</td>\n",
       "      <td>46986</td>\n",
       "      <td>Diesel</td>\n",
       "      <td>90</td>\n",
       "      <td>0</td>\n",
       "      <td>2000</td>\n",
       "      <td>3</td>\n",
       "      <td>4</td>\n",
       "      <td>5</td>\n",
       "      <td>1165</td>\n",
       "    </tr>\n",
       "    <tr>\n",
       "      <th>1</th>\n",
       "      <td>13750</td>\n",
       "      <td>23</td>\n",
       "      <td>72937</td>\n",
       "      <td>Diesel</td>\n",
       "      <td>90</td>\n",
       "      <td>0</td>\n",
       "      <td>2000</td>\n",
       "      <td>3</td>\n",
       "      <td>4</td>\n",
       "      <td>5</td>\n",
       "      <td>1165</td>\n",
       "    </tr>\n",
       "    <tr>\n",
       "      <th>2</th>\n",
       "      <td>13950</td>\n",
       "      <td>24</td>\n",
       "      <td>41711</td>\n",
       "      <td>Diesel</td>\n",
       "      <td>90</td>\n",
       "      <td>0</td>\n",
       "      <td>2000</td>\n",
       "      <td>3</td>\n",
       "      <td>4</td>\n",
       "      <td>5</td>\n",
       "      <td>1165</td>\n",
       "    </tr>\n",
       "    <tr>\n",
       "      <th>3</th>\n",
       "      <td>14950</td>\n",
       "      <td>26</td>\n",
       "      <td>48000</td>\n",
       "      <td>Diesel</td>\n",
       "      <td>90</td>\n",
       "      <td>0</td>\n",
       "      <td>2000</td>\n",
       "      <td>3</td>\n",
       "      <td>4</td>\n",
       "      <td>5</td>\n",
       "      <td>1165</td>\n",
       "    </tr>\n",
       "    <tr>\n",
       "      <th>4</th>\n",
       "      <td>13750</td>\n",
       "      <td>30</td>\n",
       "      <td>38500</td>\n",
       "      <td>Diesel</td>\n",
       "      <td>90</td>\n",
       "      <td>0</td>\n",
       "      <td>2000</td>\n",
       "      <td>3</td>\n",
       "      <td>4</td>\n",
       "      <td>5</td>\n",
       "      <td>1170</td>\n",
       "    </tr>\n",
       "  </tbody>\n",
       "</table>\n",
       "</div>"
      ],
      "text/plain": [
       "   Price  Age_08_04     KM Fuel_Type  HP  Automatic    cc  Doors  Cylinders  \\\n",
       "0  13500         23  46986    Diesel  90          0  2000      3          4   \n",
       "1  13750         23  72937    Diesel  90          0  2000      3          4   \n",
       "2  13950         24  41711    Diesel  90          0  2000      3          4   \n",
       "3  14950         26  48000    Diesel  90          0  2000      3          4   \n",
       "4  13750         30  38500    Diesel  90          0  2000      3          4   \n",
       "\n",
       "   Gears  Weight  \n",
       "0      5    1165  \n",
       "1      5    1165  \n",
       "2      5    1165  \n",
       "3      5    1165  \n",
       "4      5    1170  "
      ]
     },
     "execution_count": 24,
     "metadata": {},
     "output_type": "execute_result"
    }
   ],
   "source": [
    "# Load the dataset\n",
    "data = pd.read_csv(\"ToyotaCorolla - MLR.csv\")\n",
    "\n",
    "# Display summary statistics\n",
    "data.head()"
   ]
  },
  {
   "cell_type": "code",
   "execution_count": 3,
   "metadata": {
    "colab": {
     "base_uri": "https://localhost:8080/"
    },
    "id": "kHoZG7EWfs0R",
    "outputId": "ad8ebc35-24b8-4de0-f5d5-ede10160fb0a"
   },
   "outputs": [
    {
     "name": "stdout",
     "output_type": "stream",
     "text": [
      "\n",
      "Missing Values:\n",
      "Price        0\n",
      "Age_08_04    0\n",
      "KM           0\n",
      "Fuel_Type    0\n",
      "HP           0\n",
      "Automatic    0\n",
      "cc           0\n",
      "Doors        0\n",
      "Cylinders    0\n",
      "Gears        0\n",
      "Weight       0\n",
      "dtype: int64\n"
     ]
    }
   ],
   "source": [
    "# Check for missing values\n",
    "print(\"\\nMissing Values:\")\n",
    "print(data.isnull().sum())         #no missing values to handle"
   ]
  },
  {
   "cell_type": "code",
   "execution_count": 37,
   "metadata": {},
   "outputs": [
    {
     "name": "stdout",
     "output_type": "stream",
     "text": [
      "0       4\n",
      "1       4\n",
      "2       4\n",
      "3       4\n",
      "4       4\n",
      "       ..\n",
      "1431    4\n",
      "1432    4\n",
      "1433    4\n",
      "1434    4\n",
      "1435    4\n",
      "Name: Cylinders, Length: 1436, dtype: int64\n"
     ]
    }
   ],
   "source": [
    "print(data[\"Cylinders\"])"
   ]
  },
  {
   "cell_type": "code",
   "execution_count": 27,
   "metadata": {},
   "outputs": [
    {
     "data": {
      "text/html": [
       "<div>\n",
       "<style scoped>\n",
       "    .dataframe tbody tr th:only-of-type {\n",
       "        vertical-align: middle;\n",
       "    }\n",
       "\n",
       "    .dataframe tbody tr th {\n",
       "        vertical-align: top;\n",
       "    }\n",
       "\n",
       "    .dataframe thead th {\n",
       "        text-align: right;\n",
       "    }\n",
       "</style>\n",
       "<table border=\"1\" class=\"dataframe\">\n",
       "  <thead>\n",
       "    <tr style=\"text-align: right;\">\n",
       "      <th></th>\n",
       "      <th>Price</th>\n",
       "      <th>Age_08_04</th>\n",
       "      <th>KM</th>\n",
       "      <th>HP</th>\n",
       "      <th>Automatic</th>\n",
       "      <th>cc</th>\n",
       "      <th>Doors</th>\n",
       "      <th>Cylinders</th>\n",
       "      <th>Gears</th>\n",
       "      <th>Weight</th>\n",
       "    </tr>\n",
       "  </thead>\n",
       "  <tbody>\n",
       "    <tr>\n",
       "      <th>Price</th>\n",
       "      <td>1.000000</td>\n",
       "      <td>-0.876590</td>\n",
       "      <td>-0.569960</td>\n",
       "      <td>0.314990</td>\n",
       "      <td>0.033081</td>\n",
       "      <td>0.126389</td>\n",
       "      <td>0.185326</td>\n",
       "      <td>NaN</td>\n",
       "      <td>0.063104</td>\n",
       "      <td>0.581198</td>\n",
       "    </tr>\n",
       "    <tr>\n",
       "      <th>Age_08_04</th>\n",
       "      <td>-0.876590</td>\n",
       "      <td>1.000000</td>\n",
       "      <td>0.505672</td>\n",
       "      <td>-0.156622</td>\n",
       "      <td>0.031717</td>\n",
       "      <td>-0.098084</td>\n",
       "      <td>-0.148359</td>\n",
       "      <td>NaN</td>\n",
       "      <td>-0.005364</td>\n",
       "      <td>-0.470253</td>\n",
       "    </tr>\n",
       "    <tr>\n",
       "      <th>KM</th>\n",
       "      <td>-0.569960</td>\n",
       "      <td>0.505672</td>\n",
       "      <td>1.000000</td>\n",
       "      <td>-0.333538</td>\n",
       "      <td>-0.081854</td>\n",
       "      <td>0.102683</td>\n",
       "      <td>-0.036197</td>\n",
       "      <td>NaN</td>\n",
       "      <td>0.015023</td>\n",
       "      <td>-0.028598</td>\n",
       "    </tr>\n",
       "    <tr>\n",
       "      <th>HP</th>\n",
       "      <td>0.314990</td>\n",
       "      <td>-0.156622</td>\n",
       "      <td>-0.333538</td>\n",
       "      <td>1.000000</td>\n",
       "      <td>0.013144</td>\n",
       "      <td>0.035856</td>\n",
       "      <td>0.092424</td>\n",
       "      <td>NaN</td>\n",
       "      <td>0.209477</td>\n",
       "      <td>0.089614</td>\n",
       "    </tr>\n",
       "    <tr>\n",
       "      <th>Automatic</th>\n",
       "      <td>0.033081</td>\n",
       "      <td>0.031717</td>\n",
       "      <td>-0.081854</td>\n",
       "      <td>0.013144</td>\n",
       "      <td>1.000000</td>\n",
       "      <td>0.066740</td>\n",
       "      <td>-0.027654</td>\n",
       "      <td>NaN</td>\n",
       "      <td>-0.098555</td>\n",
       "      <td>0.057249</td>\n",
       "    </tr>\n",
       "    <tr>\n",
       "      <th>cc</th>\n",
       "      <td>0.126389</td>\n",
       "      <td>-0.098084</td>\n",
       "      <td>0.102683</td>\n",
       "      <td>0.035856</td>\n",
       "      <td>0.066740</td>\n",
       "      <td>1.000000</td>\n",
       "      <td>0.079903</td>\n",
       "      <td>NaN</td>\n",
       "      <td>0.014629</td>\n",
       "      <td>0.335637</td>\n",
       "    </tr>\n",
       "    <tr>\n",
       "      <th>Doors</th>\n",
       "      <td>0.185326</td>\n",
       "      <td>-0.148359</td>\n",
       "      <td>-0.036197</td>\n",
       "      <td>0.092424</td>\n",
       "      <td>-0.027654</td>\n",
       "      <td>0.079903</td>\n",
       "      <td>1.000000</td>\n",
       "      <td>NaN</td>\n",
       "      <td>-0.160141</td>\n",
       "      <td>0.302618</td>\n",
       "    </tr>\n",
       "    <tr>\n",
       "      <th>Cylinders</th>\n",
       "      <td>NaN</td>\n",
       "      <td>NaN</td>\n",
       "      <td>NaN</td>\n",
       "      <td>NaN</td>\n",
       "      <td>NaN</td>\n",
       "      <td>NaN</td>\n",
       "      <td>NaN</td>\n",
       "      <td>NaN</td>\n",
       "      <td>NaN</td>\n",
       "      <td>NaN</td>\n",
       "    </tr>\n",
       "    <tr>\n",
       "      <th>Gears</th>\n",
       "      <td>0.063104</td>\n",
       "      <td>-0.005364</td>\n",
       "      <td>0.015023</td>\n",
       "      <td>0.209477</td>\n",
       "      <td>-0.098555</td>\n",
       "      <td>0.014629</td>\n",
       "      <td>-0.160141</td>\n",
       "      <td>NaN</td>\n",
       "      <td>1.000000</td>\n",
       "      <td>0.020613</td>\n",
       "    </tr>\n",
       "    <tr>\n",
       "      <th>Weight</th>\n",
       "      <td>0.581198</td>\n",
       "      <td>-0.470253</td>\n",
       "      <td>-0.028598</td>\n",
       "      <td>0.089614</td>\n",
       "      <td>0.057249</td>\n",
       "      <td>0.335637</td>\n",
       "      <td>0.302618</td>\n",
       "      <td>NaN</td>\n",
       "      <td>0.020613</td>\n",
       "      <td>1.000000</td>\n",
       "    </tr>\n",
       "  </tbody>\n",
       "</table>\n",
       "</div>"
      ],
      "text/plain": [
       "              Price  Age_08_04        KM        HP  Automatic        cc  \\\n",
       "Price      1.000000  -0.876590 -0.569960  0.314990   0.033081  0.126389   \n",
       "Age_08_04 -0.876590   1.000000  0.505672 -0.156622   0.031717 -0.098084   \n",
       "KM        -0.569960   0.505672  1.000000 -0.333538  -0.081854  0.102683   \n",
       "HP         0.314990  -0.156622 -0.333538  1.000000   0.013144  0.035856   \n",
       "Automatic  0.033081   0.031717 -0.081854  0.013144   1.000000  0.066740   \n",
       "cc         0.126389  -0.098084  0.102683  0.035856   0.066740  1.000000   \n",
       "Doors      0.185326  -0.148359 -0.036197  0.092424  -0.027654  0.079903   \n",
       "Cylinders       NaN        NaN       NaN       NaN        NaN       NaN   \n",
       "Gears      0.063104  -0.005364  0.015023  0.209477  -0.098555  0.014629   \n",
       "Weight     0.581198  -0.470253 -0.028598  0.089614   0.057249  0.335637   \n",
       "\n",
       "              Doors  Cylinders     Gears    Weight  \n",
       "Price      0.185326        NaN  0.063104  0.581198  \n",
       "Age_08_04 -0.148359        NaN -0.005364 -0.470253  \n",
       "KM        -0.036197        NaN  0.015023 -0.028598  \n",
       "HP         0.092424        NaN  0.209477  0.089614  \n",
       "Automatic -0.027654        NaN -0.098555  0.057249  \n",
       "cc         0.079903        NaN  0.014629  0.335637  \n",
       "Doors      1.000000        NaN -0.160141  0.302618  \n",
       "Cylinders       NaN        NaN       NaN       NaN  \n",
       "Gears     -0.160141        NaN  1.000000  0.020613  \n",
       "Weight     0.302618        NaN  0.020613  1.000000  "
      ]
     },
     "execution_count": 27,
     "metadata": {},
     "output_type": "execute_result"
    }
   ],
   "source": [
    "data.corr()"
   ]
  },
  {
   "cell_type": "markdown",
   "metadata": {},
   "source": [
    "**The Cylinders column doesn't have any linear relationship with other columns**"
   ]
  },
  {
   "cell_type": "code",
   "execution_count": 38,
   "metadata": {},
   "outputs": [
    {
     "data": {
      "text/plain": [
       "<AxesSubplot:>"
      ]
     },
     "execution_count": 38,
     "metadata": {},
     "output_type": "execute_result"
    },
    {
     "data": {
      "image/png": "[encoded data removed]",
      "text/plain": [
       "<Figure size 1440x720 with 2 Axes>"
      ]
     },
     "metadata": {
      "needs_background": "light"
     },
     "output_type": "display_data"
    }
   ],
   "source": [
    "plt.figure(figsize=(20,10))\n",
    "sns.heatmap(data.corr(),annot=True)"
   ]
  },
  {
   "cell_type": "code",
   "execution_count": 84,
   "metadata": {},
   "outputs": [
    {
     "data": {
      "text/plain": [
       "Text(0.5, 1.0, 'Histogram for KM')"
      ]
     },
     "execution_count": 84,
     "metadata": {},
     "output_type": "execute_result"
    },
    {
     "data": {
      "image/png": "[encoded data removed]",
      "text/plain": [
       "<Figure size 1800x432 with 3 Axes>"
      ]
     },
     "metadata": {
      "needs_background": "light"
     },
     "output_type": "display_data"
    }
   ],
   "source": [
    "plt.figure(figsize=(25,6))\n",
    "plt.subplot(141)\n",
    "plt.hist(data['HP'], bins=20, color='skyblue', edgecolor='black')\n",
    "plt.xlabel('Horsepower')\n",
    "plt.ylabel('Frequency')\n",
    "plt.title('Histogram for Horsepower')\n",
    "\n",
    "plt.subplot(142)\n",
    "plt.hist(data['Price'], bins=30, color='skyblue', edgecolor='black')\n",
    "plt.xlabel('price')\n",
    "plt.ylabel('Frequency')\n",
    "plt.title('Histogram for price')\n",
    "\n",
    "plt.subplot(143)\n",
    "plt.hist(data['KM'], bins=30, color='skyblue', edgecolor='black')\n",
    "plt.xlabel('KM')\n",
    "plt.ylabel('Frequency')\n",
    "plt.title('Histogram for KM')\n"
   ]
  },
  {
   "cell_type": "markdown",
   "metadata": {},
   "source": [
    "**Horsepower has some outliers, most of the cars are with HP 110**\n",
    "\n",
    "**Most of the car price range between 7000-11000**\n",
    "\n",
    "**Higest car accumulated km on odometer lies between 50000,10000**\n",
    "\n"
   ]
  },
  {
   "cell_type": "code",
   "execution_count": 73,
   "metadata": {},
   "outputs": [
    {
     "data": {
      "text/plain": [
       "Text(0, 0.5, 'offer price')"
      ]
     },
     "execution_count": 73,
     "metadata": {},
     "output_type": "execute_result"
    },
    {
     "data": {
      "image/png": "[encoded data removed]",
      "text/plain": [
       "<Figure size 720x432 with 1 Axes>"
      ]
     },
     "metadata": {
      "needs_background": "light"
     },
     "output_type": "display_data"
    },
    {
     "data": {
      "image/png": "[encoded data removed]",
      "text/plain": [
       "<Figure size 720x432 with 1 Axes>"
      ]
     },
     "metadata": {
      "needs_background": "light"
     },
     "output_type": "display_data"
    }
   ],
   "source": [
    "plt.figure(figsize=(10, 6))\n",
    "plt.scatter(data['KM'], data['Price'], color='skyblue', alpha=0.5)\n",
    "plt.xlabel(\"Kilometers accumulated\")\n",
    "plt.ylabel(\"offer price\")\n",
    "\n",
    "\n",
    "plt.figure(figsize=(10, 6))\n",
    "plt.scatter(data['HP'], data['Price'], color='skyblue', alpha=0.5)\n",
    "plt.xlabel(\"Hp\")\n",
    "plt.ylabel(\"offer price\")"
   ]
  },
  {
   "cell_type": "markdown",
   "metadata": {},
   "source": [
    "**1.If we see the km vs offer price scatter plot we can see that most of the cars falls under 50000-100000kms and $5000-$15000**\n",
    "\n",
    "\n",
    "**2.if we see the hp vs offer price scatter plot we can see that there are some outliers where the HP is greater than 180**\n"
   ]
  },
  {
   "cell_type": "code",
   "execution_count": null,
   "metadata": {
    "id": "UclkehVNgBpZ"
   },
   "outputs": [],
   "source": [
    "# Preprocess the data\n",
    "# Convert categorical variables into dummy variables\n",
    "data = pd.get_dummies(data, columns=['Fuel_Type', 'Automatic'])"
   ]
  },
  {
   "cell_type": "code",
   "execution_count": 39,
   "metadata": {
    "colab": {
     "base_uri": "https://localhost:8080/"
    },
    "id": "BvsyQ4CSgHJJ",
    "outputId": "3f9d75fe-d1a3-46fa-e3cd-83cafd0ac1de"
   },
   "outputs": [],
   "source": [
    "# Split the data into features and target\n",
    "x = data.drop('Price', axis=1)\n",
    "y = data['Price']\n"
   ]
  },
  {
   "cell_type": "markdown",
   "metadata": {
    "id": "7igCpXyugX1Q"
   },
   "source": [
    "### Task 2: Split the dataset into training and testing sets (e.g., 80% training, 20% testing)."
   ]
  },
  {
   "cell_type": "code",
   "execution_count": 40,
   "metadata": {
    "colab": {
     "base_uri": "https://localhost:8080/"
    },
    "id": "qY6lg9crgczR",
    "outputId": "c64dfbb2-606a-40be-cf38-7bb6e3845f7b"
   },
   "outputs": [
    {
     "name": "stdout",
     "output_type": "stream",
     "text": [
      "Training set shape : (1148, 10) y: (1148,)\n",
      "Testing set shape: (288, 10) y: (288,)\n"
     ]
    }
   ],
   "source": [
    "from sklearn.model_selection import train_test_split\n",
    "\n",
    "# Split the data into training and testing sets\n",
    "x_train, x_test, y_train, y_test = train_test_split(x, y, test_size=0.2, random_state=42)\n",
    "\n",
    "# Display the shapes of the training and testing sets\n",
    "print(\"Training set shape :\", x_train.shape, \"y:\", y_train.shape)\n",
    "print(\"Testing set shape:\", x_test.shape, \"y:\", y_test.shape)"
   ]
  },
  {
   "cell_type": "markdown",
   "metadata": {
    "id": "Y_uEVohkgmjP"
   },
   "source": [
    "### Task 3 : Build a multiple linear regression model using the training dataset. Interpret the coefficients of the model. Build minimum of 3 different models."
   ]
  },
  {
   "cell_type": "code",
   "execution_count": 8,
   "metadata": {
    "colab": {
     "base_uri": "https://localhost:8080/",
     "height": 74
    },
    "id": "mD0ucFfRgi-Y",
    "outputId": "6edbcfb4-1d38-4458-bbe1-b99aaacde62e"
   },
   "outputs": [
    {
     "data": {
      "text/plain": [
       "LinearRegression()"
      ]
     },
     "execution_count": 8,
     "metadata": {},
     "output_type": "execute_result"
    }
   ],
   "source": [
    "from sklearn.linear_model import LinearRegression\n",
    "\n",
    "# Build the first MLR model\n",
    "model_1 = LinearRegression()\n",
    "model_1.fit(x_train, y_train)"
   ]
  },
  {
   "cell_type": "code",
   "execution_count": 9,
   "metadata": {
    "colab": {
     "base_uri": "https://localhost:8080/"
    },
    "id": "qwQf6B_xg11z",
    "outputId": "ff778ade-be97-4f39-db8c-6f9368c3d289"
   },
   "outputs": [
    {
     "name": "stdout",
     "output_type": "stream",
     "text": [
      "Coefficients of Model 1:\n",
      "                   Coefficient\n",
      "Age_08_04        -1.208305e+02\n",
      "KM               -1.623141e-02\n",
      "HP                1.403948e+01\n",
      "cc               -3.037219e-02\n",
      "Doors            -6.031097e+01\n",
      "Cylinders        -5.684342e-14\n",
      "Gears             5.516007e+02\n",
      "Weight            2.588496e+01\n",
      "Fuel_Type_CNG    -4.340867e+02\n",
      "Fuel_Type_Diesel -5.026355e+02\n",
      "Fuel_Type_Petrol  9.367222e+02\n",
      "Automatic_0      -7.441546e+01\n",
      "Automatic_1       7.441546e+01\n"
     ]
    }
   ],
   "source": [
    "# Interpret coefficients of the first model\n",
    "coefficients_1 = pd.DataFrame(model_1.coef_, index=X.columns, columns=['Coefficient'])\n",
    "print(\"Coefficients of Model 1:\")\n",
    "print(coefficients_1)"
   ]
  },
  {
   "cell_type": "code",
   "execution_count": 10,
   "metadata": {
    "colab": {
     "base_uri": "https://localhost:8080/",
     "height": 74
    },
    "id": "wpXTUTYCg3nf",
    "outputId": "64627c4a-0b20-4152-a00b-77156539d373"
   },
   "outputs": [
    {
     "data": {
      "text/plain": [
       "LinearRegression()"
      ]
     },
     "execution_count": 10,
     "metadata": {},
     "output_type": "execute_result"
    }
   ],
   "source": [
    "# Build the second MLR model\n",
    "selected_features = ['Age_08_04', 'KM', 'HP', 'Weight']\n",
    "X_train_selected = X_train[selected_features]\n",
    "model_2 = LinearRegression()\n",
    "model_2.fit(X_train_selected, y_train)"
   ]
  },
  {
   "cell_type": "code",
   "execution_count": 11,
   "metadata": {
    "colab": {
     "base_uri": "https://localhost:8080/"
    },
    "id": "zeQbZLJPg5A5",
    "outputId": "8639ac31-8790-4530-ec14-6445e62d0e82"
   },
   "outputs": [
    {
     "name": "stdout",
     "output_type": "stream",
     "text": [
      "\n",
      "Coefficients of Model 2 (with selected features):\n",
      "           Coefficient\n",
      "Age_08_04  -120.025405\n",
      "KM           -0.020233\n",
      "HP           29.052170\n",
      "Weight       19.769066\n"
     ]
    }
   ],
   "source": [
    "# Interpret coefficients of the second model\n",
    "coefficients_2 = pd.DataFrame(model_2.coef_, index=selected_features, columns=['Coefficient'])\n",
    "print(\"\\nCoefficients of Model 2 (with selected features):\")\n",
    "print(coefficients_2)"
   ]
  },
  {
   "cell_type": "code",
   "execution_count": 12,
   "metadata": {
    "colab": {
     "base_uri": "https://localhost:8080/",
     "height": 74
    },
    "id": "Zvh0ho6_g6cP",
    "outputId": "c7e7a3e2-8a3d-4120-f38c-70f265ac39c8"
   },
   "outputs": [
    {
     "data": {
      "text/plain": [
       "LinearRegression()"
      ]
     },
     "execution_count": 12,
     "metadata": {},
     "output_type": "execute_result"
    }
   ],
   "source": [
    "# Build the third MLR model (example: including all features)\n",
    "model_3 = LinearRegression()\n",
    "model_3.fit(X_train, y_train)"
   ]
  },
  {
   "cell_type": "code",
   "execution_count": 13,
   "metadata": {
    "colab": {
     "base_uri": "https://localhost:8080/"
    },
    "id": "9Lqt89V4g7nB",
    "outputId": "ef4bcc9f-bfcc-45df-9d5e-9070148a8471"
   },
   "outputs": [
    {
     "name": "stdout",
     "output_type": "stream",
     "text": [
      "\n",
      "Coefficients of Model 3 (with all features):\n",
      "                   Coefficient\n",
      "Age_08_04        -1.208305e+02\n",
      "KM               -1.623141e-02\n",
      "HP                1.403948e+01\n",
      "cc               -3.037219e-02\n",
      "Doors            -6.031097e+01\n",
      "Cylinders        -5.684342e-14\n",
      "Gears             5.516007e+02\n",
      "Weight            2.588496e+01\n",
      "Fuel_Type_CNG    -4.340867e+02\n",
      "Fuel_Type_Diesel -5.026355e+02\n",
      "Fuel_Type_Petrol  9.367222e+02\n",
      "Automatic_0      -7.441546e+01\n",
      "Automatic_1       7.441546e+01\n"
     ]
    }
   ],
   "source": [
    "# Interpret coefficients of the third model\n",
    "coefficients_3 = pd.DataFrame(model_3.coef_, index=X.columns, columns=['Coefficient'])\n",
    "print(\"\\nCoefficients of Model 3 (with all features):\")\n",
    "print(coefficients_3)"
   ]
  },
  {
   "cell_type": "markdown",
   "metadata": {
    "id": "YR6zAYMdhGzX"
   },
   "source": [
    "### Task 4.Evaluate the performance of the model using appropriate evaluation metrics on the testing dataset."
   ]
  },
  {
   "cell_type": "code",
   "execution_count": 14,
   "metadata": {
    "id": "Wp6FTrUag9BX"
   },
   "outputs": [],
   "source": [
    "from sklearn.metrics import mean_squared_error, r2_score"
   ]
  },
  {
   "cell_type": "code",
   "execution_count": 15,
   "metadata": {
    "colab": {
     "base_uri": "https://localhost:8080/"
    },
    "id": "AYyXlDTphQYQ",
    "outputId": "c387e0c8-3952-4570-dc49-9fb8397dfc01"
   },
   "outputs": [
    {
     "name": "stdout",
     "output_type": "stream",
     "text": [
      "Evaluation Metrics for Model 1:\n",
      "Mean Squared Error: 2203043.823143702\n",
      "R-squared Score: 0.8348888040611082\n"
     ]
    }
   ],
   "source": [
    "# Evaluate Model 1\n",
    "y_pred_1 = model_1.predict(X_test)\n",
    "mse_1 = mean_squared_error(y_test, y_pred_1)\n",
    "r2_1 = r2_score(y_test, y_pred_1)\n",
    "print(\"Evaluation Metrics for Model 1:\")\n",
    "print(\"Mean Squared Error:\", mse_1)\n",
    "print(\"R-squared Score:\", r2_1)"
   ]
  },
  {
   "cell_type": "code",
   "execution_count": 16,
   "metadata": {
    "colab": {
     "base_uri": "https://localhost:8080/"
    },
    "id": "fro6l2aihR8_",
    "outputId": "65f070fc-0cf5-4f2d-e7f4-1f706306d28d"
   },
   "outputs": [
    {
     "name": "stdout",
     "output_type": "stream",
     "text": [
      "\n",
      "Evaluation Metrics for Model 2:\n",
      "Mean Squared Error: 1993321.0129730718\n",
      "R-squared Score: 0.8506068681500581\n"
     ]
    }
   ],
   "source": [
    "# Evaluate Model 2\n",
    "X_test_selected = X_test[selected_features]  # Using the same selected features as in Model 2\n",
    "y_pred_2 = model_2.predict(X_test_selected)\n",
    "mse_2 = mean_squared_error(y_test, y_pred_2)\n",
    "r2_2 = r2_score(y_test, y_pred_2)\n",
    "print(\"\\nEvaluation Metrics for Model 2:\")\n",
    "print(\"Mean Squared Error:\", mse_2)\n",
    "print(\"R-squared Score:\", r2_2)\n"
   ]
  },
  {
   "cell_type": "code",
   "execution_count": 17,
   "metadata": {
    "colab": {
     "base_uri": "https://localhost:8080/"
    },
    "id": "5ycPzFSfhUPv",
    "outputId": "44cbcd27-b774-462f-b8de-e5cbd2ee8dc2"
   },
   "outputs": [
    {
     "name": "stdout",
     "output_type": "stream",
     "text": [
      "\n",
      "Evaluation Metrics for Model 3:\n",
      "Mean Squared Error: 2203043.823143702\n",
      "R-squared Score: 0.8348888040611082\n"
     ]
    }
   ],
   "source": [
    "# Evaluate Model 3\n",
    "y_pred_3 = model_3.predict(X_test)\n",
    "mse_3 = mean_squared_error(y_test, y_pred_3)\n",
    "r2_3 = r2_score(y_test, y_pred_3)\n",
    "print(\"\\nEvaluation Metrics for Model 3:\")\n",
    "print(\"Mean Squared Error:\", mse_3)\n",
    "print(\"R-squared Score:\", r2_3)"
   ]
  },
  {
   "cell_type": "markdown",
   "metadata": {
    "id": "hvhdb5XchjWI"
   },
   "source": [
    "### Task 5.Apply Lasso and Ridge methods on the model."
   ]
  },
  {
   "cell_type": "code",
   "execution_count": 18,
   "metadata": {
    "colab": {
     "base_uri": "https://localhost:8080/",
     "height": 74
    },
    "id": "NqNO2MOxhWPI",
    "outputId": "23077352-4e6e-434a-ab13-ada294128b11"
   },
   "outputs": [
    {
     "data": {
      "text/plain": [
       "Lasso(alpha=0.1)"
      ]
     },
     "execution_count": 18,
     "metadata": {},
     "output_type": "execute_result"
    }
   ],
   "source": [
    "# using model 2 since its more accurate and efficient\n",
    "from sklearn.linear_model import Lasso, Ridge\n",
    "\n",
    "# Apply Lasso regularization\n",
    "lasso_model = Lasso(alpha=0.1)\n",
    "lasso_model.fit(X_train_selected, y_train)"
   ]
  },
  {
   "cell_type": "code",
   "execution_count": 19,
   "metadata": {
    "colab": {
     "base_uri": "https://localhost:8080/"
    },
    "id": "DA7sOfDYhySX",
    "outputId": "dde4cbf8-ddcc-4fbe-e491-3ab06a06ef52"
   },
   "outputs": [
    {
     "name": "stdout",
     "output_type": "stream",
     "text": [
      "\n",
      "Evaluation Metrics for Lasso Model:\n",
      "Mean Squared Error: 1993323.3178870243\n",
      "R-squared Score: 0.8506066954040169\n"
     ]
    }
   ],
   "source": [
    "# Evaluate Lasso model\n",
    "y_pred_lasso = lasso_model.predict(X_test_selected)\n",
    "mse_lasso = mean_squared_error(y_test, y_pred_lasso)\n",
    "r2_lasso = r2_score(y_test, y_pred_lasso)\n",
    "print(\"\\nEvaluation Metrics for Lasso Model:\")\n",
    "print(\"Mean Squared Error:\", mse_lasso)\n",
    "print(\"R-squared Score:\", r2_lasso)"
   ]
  },
  {
   "cell_type": "code",
   "execution_count": 20,
   "metadata": {
    "colab": {
     "base_uri": "https://localhost:8080/",
     "height": 74
    },
    "id": "ZcxCEH-Gh2iX",
    "outputId": "b02d40be-3e6b-4f81-f61e-da8e9655c244"
   },
   "outputs": [
    {
     "data": {
      "text/plain": [
       "Ridge(alpha=0.1)"
      ]
     },
     "execution_count": 20,
     "metadata": {},
     "output_type": "execute_result"
    }
   ],
   "source": [
    "# Apply Ridge regularization\n",
    "ridge_model = Ridge(alpha=0.1)  # You can adjust the alpha parameter as needed\n",
    "ridge_model.fit(X_train_selected, y_train)"
   ]
  },
  {
   "cell_type": "code",
   "execution_count": 21,
   "metadata": {
    "colab": {
     "base_uri": "https://localhost:8080/"
    },
    "id": "iwLh9ecyh4AI",
    "outputId": "d49b31af-f546-470e-c4d8-d6a070f87593"
   },
   "outputs": [
    {
     "name": "stdout",
     "output_type": "stream",
     "text": [
      "\n",
      "Evaluation Metrics for Ridge Model:\n",
      "Mean Squared Error: 1993321.2820191267\n",
      "R-squared Score: 0.8506068479859037\n"
     ]
    }
   ],
   "source": [
    "# Evaluate Ridge model\n",
    "y_pred_ridge = ridge_model.predict(X_test_selected)\n",
    "mse_ridge = mean_squared_error(y_test, y_pred_ridge)\n",
    "r2_ridge = r2_score(y_test, y_pred_ridge)\n",
    "print(\"\\nEvaluation Metrics for Ridge Model:\")\n",
    "print(\"Mean Squared Error:\", mse_ridge)\n",
    "print(\"R-squared Score:\", r2_ridge)"
   ]
  },
  {
   "cell_type": "markdown",
   "metadata": {},
   "source": [
    "**Interview question**"
   ]
  },
  {
   "cell_type": "markdown",
   "metadata": {},
   "source": [
    "**1.What is Normalization & Standardization and how is it helpful?**"
   ]
  },
  {
   "cell_type": "markdown",
   "metadata": {},
   "source": [
    "Nomalization is a technique used to scale the individual sample for example when the features varies in scale or units it ranges between 0 to 1,It rescales the value to a common scale"
   ]
  },
  {
   "cell_type": "markdown",
   "metadata": {},
   "source": [
    "**2.What techniques can be used to address multicollinearity in multiple linear regression?**"
   ]
  },
  {
   "cell_type": "markdown",
   "metadata": {},
   "source": [
    "Multicollinearity is when two or more features are highly correlated with each other\n",
    "\n",
    "Techniques to address multicolinearity :-\n",
    "1.Feature Selection:remove the feature that is highly correlated and choose most relevant predictors\n",
    "\n",
    "2.Principal Component Analysis (PCA):transforms the original predictors into a smaller set of uncorrelated variables.\n",
    "\n"
   ]
  },
  {
   "cell_type": "code",
   "execution_count": null,
   "metadata": {},
   "outputs": [],
   "source": []
  }
 ],
 "metadata": {
  "colab": {
   "provenance": []
  },
  "kernelspec": {
   "display_name": "Python 3 (ipykernel)",
   "language": "python",
   "name": "python3"
  },
  "language_info": {
   "codemirror_mode": {
    "name": "ipython",
    "version": 3
   },
   "file_extension": ".py",
   "mimetype": "text/x-python",
   "name": "python",
   "nbconvert_exporter": "python",
   "pygments_lexer": "ipython3",
   "version": "3.9.12"
  }
 },
 "nbformat": 4,
 "nbformat_minor": 1
}
