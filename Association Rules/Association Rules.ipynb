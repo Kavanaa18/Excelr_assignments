{
 "cells": [
  {
   "cell_type": "markdown",
   "metadata": {},
   "source": [
    "# Association Rules"
   ]
  },
  {
   "cell_type": "markdown",
   "metadata": {},
   "source": [
    "Data preprocessing"
   ]
  },
  {
   "cell_type": "code",
   "execution_count": 1,
   "metadata": {},
   "outputs": [],
   "source": [
    "# reading the excel file\n",
    "import pandas as pd\n",
    "file_path = 'Online retail.xlsx'\n",
    "df = pd.read_excel(file_path, header=None)"
   ]
  },
  {
   "cell_type": "code",
   "execution_count": 2,
   "metadata": {},
   "outputs": [
    {
     "data": {
      "text/html": [
       "<div>\n",
       "<style scoped>\n",
       "    .dataframe tbody tr th:only-of-type {\n",
       "        vertical-align: middle;\n",
       "    }\n",
       "\n",
       "    .dataframe tbody tr th {\n",
       "        vertical-align: top;\n",
       "    }\n",
       "\n",
       "    .dataframe thead th {\n",
       "        text-align: right;\n",
       "    }\n",
       "</style>\n",
       "<table border=\"1\" class=\"dataframe\">\n",
       "  <thead>\n",
       "    <tr style=\"text-align: right;\">\n",
       "      <th></th>\n",
       "      <th>0</th>\n",
       "    </tr>\n",
       "  </thead>\n",
       "  <tbody>\n",
       "    <tr>\n",
       "      <th>0</th>\n",
       "      <td>shrimp,almonds,avocado,vegetables mix,green gr...</td>\n",
       "    </tr>\n",
       "    <tr>\n",
       "      <th>1</th>\n",
       "      <td>burgers,meatballs,eggs</td>\n",
       "    </tr>\n",
       "    <tr>\n",
       "      <th>2</th>\n",
       "      <td>chutney</td>\n",
       "    </tr>\n",
       "    <tr>\n",
       "      <th>3</th>\n",
       "      <td>turkey,avocado</td>\n",
       "    </tr>\n",
       "    <tr>\n",
       "      <th>4</th>\n",
       "      <td>mineral water,milk,energy bar,whole wheat rice...</td>\n",
       "    </tr>\n",
       "  </tbody>\n",
       "</table>\n",
       "</div>"
      ],
      "text/plain": [
       "                                                   0\n",
       "0  shrimp,almonds,avocado,vegetables mix,green gr...\n",
       "1                             burgers,meatballs,eggs\n",
       "2                                            chutney\n",
       "3                                     turkey,avocado\n",
       "4  mineral water,milk,energy bar,whole wheat rice..."
      ]
     },
     "execution_count": 2,
     "metadata": {},
     "output_type": "execute_result"
    }
   ],
   "source": [
    "df.head()"
   ]
  },
  {
   "cell_type": "code",
   "execution_count": 3,
   "metadata": {},
   "outputs": [
    {
     "data": {
      "text/plain": [
       "0    0\n",
       "dtype: int64"
      ]
     },
     "execution_count": 3,
     "metadata": {},
     "output_type": "execute_result"
    }
   ],
   "source": [
    "df.isnull().sum()"
   ]
  },
  {
   "cell_type": "code",
   "execution_count": 6,
   "metadata": {},
   "outputs": [],
   "source": [
    "# converting the data into one hot encoded format\n",
    "from mlxtend.preprocessing import TransactionEncoder\n",
    "transactions = df[0].str.split(',').tolist()\n",
    "te = TransactionEncoder()\n",
    "te_ary = te.fit(transactions).transform(transactions)\n",
    "\n",
    "df_transformed = pd.DataFrame(te_ary, columns=te.columns_)\n"
   ]
  },
  {
   "cell_type": "code",
   "execution_count": 7,
   "metadata": {},
   "outputs": [
    {
     "data": {
      "text/html": [
       "<div>\n",
       "<style scoped>\n",
       "    .dataframe tbody tr th:only-of-type {\n",
       "        vertical-align: middle;\n",
       "    }\n",
       "\n",
       "    .dataframe tbody tr th {\n",
       "        vertical-align: top;\n",
       "    }\n",
       "\n",
       "    .dataframe thead th {\n",
       "        text-align: right;\n",
       "    }\n",
       "</style>\n",
       "<table border=\"1\" class=\"dataframe\">\n",
       "  <thead>\n",
       "    <tr style=\"text-align: right;\">\n",
       "      <th></th>\n",
       "      <th>asparagus</th>\n",
       "      <th>almonds</th>\n",
       "      <th>antioxydant juice</th>\n",
       "      <th>asparagus</th>\n",
       "      <th>avocado</th>\n",
       "      <th>babies food</th>\n",
       "      <th>bacon</th>\n",
       "      <th>barbecue sauce</th>\n",
       "      <th>black tea</th>\n",
       "      <th>blueberries</th>\n",
       "      <th>...</th>\n",
       "      <th>turkey</th>\n",
       "      <th>vegetables mix</th>\n",
       "      <th>water spray</th>\n",
       "      <th>white wine</th>\n",
       "      <th>whole weat flour</th>\n",
       "      <th>whole wheat pasta</th>\n",
       "      <th>whole wheat rice</th>\n",
       "      <th>yams</th>\n",
       "      <th>yogurt cake</th>\n",
       "      <th>zucchini</th>\n",
       "    </tr>\n",
       "  </thead>\n",
       "  <tbody>\n",
       "    <tr>\n",
       "      <th>0</th>\n",
       "      <td>False</td>\n",
       "      <td>True</td>\n",
       "      <td>True</td>\n",
       "      <td>False</td>\n",
       "      <td>True</td>\n",
       "      <td>False</td>\n",
       "      <td>False</td>\n",
       "      <td>False</td>\n",
       "      <td>False</td>\n",
       "      <td>False</td>\n",
       "      <td>...</td>\n",
       "      <td>False</td>\n",
       "      <td>True</td>\n",
       "      <td>False</td>\n",
       "      <td>False</td>\n",
       "      <td>True</td>\n",
       "      <td>False</td>\n",
       "      <td>False</td>\n",
       "      <td>True</td>\n",
       "      <td>False</td>\n",
       "      <td>False</td>\n",
       "    </tr>\n",
       "    <tr>\n",
       "      <th>1</th>\n",
       "      <td>False</td>\n",
       "      <td>False</td>\n",
       "      <td>False</td>\n",
       "      <td>False</td>\n",
       "      <td>False</td>\n",
       "      <td>False</td>\n",
       "      <td>False</td>\n",
       "      <td>False</td>\n",
       "      <td>False</td>\n",
       "      <td>False</td>\n",
       "      <td>...</td>\n",
       "      <td>False</td>\n",
       "      <td>False</td>\n",
       "      <td>False</td>\n",
       "      <td>False</td>\n",
       "      <td>False</td>\n",
       "      <td>False</td>\n",
       "      <td>False</td>\n",
       "      <td>False</td>\n",
       "      <td>False</td>\n",
       "      <td>False</td>\n",
       "    </tr>\n",
       "    <tr>\n",
       "      <th>2</th>\n",
       "      <td>False</td>\n",
       "      <td>False</td>\n",
       "      <td>False</td>\n",
       "      <td>False</td>\n",
       "      <td>False</td>\n",
       "      <td>False</td>\n",
       "      <td>False</td>\n",
       "      <td>False</td>\n",
       "      <td>False</td>\n",
       "      <td>False</td>\n",
       "      <td>...</td>\n",
       "      <td>False</td>\n",
       "      <td>False</td>\n",
       "      <td>False</td>\n",
       "      <td>False</td>\n",
       "      <td>False</td>\n",
       "      <td>False</td>\n",
       "      <td>False</td>\n",
       "      <td>False</td>\n",
       "      <td>False</td>\n",
       "      <td>False</td>\n",
       "    </tr>\n",
       "    <tr>\n",
       "      <th>3</th>\n",
       "      <td>False</td>\n",
       "      <td>False</td>\n",
       "      <td>False</td>\n",
       "      <td>False</td>\n",
       "      <td>True</td>\n",
       "      <td>False</td>\n",
       "      <td>False</td>\n",
       "      <td>False</td>\n",
       "      <td>False</td>\n",
       "      <td>False</td>\n",
       "      <td>...</td>\n",
       "      <td>True</td>\n",
       "      <td>False</td>\n",
       "      <td>False</td>\n",
       "      <td>False</td>\n",
       "      <td>False</td>\n",
       "      <td>False</td>\n",
       "      <td>False</td>\n",
       "      <td>False</td>\n",
       "      <td>False</td>\n",
       "      <td>False</td>\n",
       "    </tr>\n",
       "    <tr>\n",
       "      <th>4</th>\n",
       "      <td>False</td>\n",
       "      <td>False</td>\n",
       "      <td>False</td>\n",
       "      <td>False</td>\n",
       "      <td>False</td>\n",
       "      <td>False</td>\n",
       "      <td>False</td>\n",
       "      <td>False</td>\n",
       "      <td>False</td>\n",
       "      <td>False</td>\n",
       "      <td>...</td>\n",
       "      <td>False</td>\n",
       "      <td>False</td>\n",
       "      <td>False</td>\n",
       "      <td>False</td>\n",
       "      <td>False</td>\n",
       "      <td>False</td>\n",
       "      <td>True</td>\n",
       "      <td>False</td>\n",
       "      <td>False</td>\n",
       "      <td>False</td>\n",
       "    </tr>\n",
       "  </tbody>\n",
       "</table>\n",
       "<p>5 rows × 120 columns</p>\n",
       "</div>"
      ],
      "text/plain": [
       "    asparagus  almonds  antioxydant juice  asparagus  avocado  babies food  \\\n",
       "0       False     True               True      False     True        False   \n",
       "1       False    False              False      False    False        False   \n",
       "2       False    False              False      False    False        False   \n",
       "3       False    False              False      False     True        False   \n",
       "4       False    False              False      False    False        False   \n",
       "\n",
       "   bacon  barbecue sauce  black tea  blueberries  ...  turkey  vegetables mix  \\\n",
       "0  False           False      False        False  ...   False            True   \n",
       "1  False           False      False        False  ...   False           False   \n",
       "2  False           False      False        False  ...   False           False   \n",
       "3  False           False      False        False  ...    True           False   \n",
       "4  False           False      False        False  ...   False           False   \n",
       "\n",
       "   water spray  white wine  whole weat flour  whole wheat pasta  \\\n",
       "0        False       False              True              False   \n",
       "1        False       False             False              False   \n",
       "2        False       False             False              False   \n",
       "3        False       False             False              False   \n",
       "4        False       False             False              False   \n",
       "\n",
       "   whole wheat rice   yams  yogurt cake  zucchini  \n",
       "0             False   True        False     False  \n",
       "1             False  False        False     False  \n",
       "2             False  False        False     False  \n",
       "3             False  False        False     False  \n",
       "4              True  False        False     False  \n",
       "\n",
       "[5 rows x 120 columns]"
      ]
     },
     "execution_count": 7,
     "metadata": {},
     "output_type": "execute_result"
    }
   ],
   "source": [
    "df_transformed.head(5)"
   ]
  },
  {
   "cell_type": "markdown",
   "metadata": {},
   "source": [
    "Association Rule Mining"
   ]
  },
  {
   "cell_type": "code",
   "execution_count": 11,
   "metadata": {},
   "outputs": [
    {
     "name": "stdout",
     "output_type": "stream",
     "text": [
      "     support                    itemsets\n",
      "0   0.087188                   (burgers)\n",
      "1   0.081056                      (cake)\n",
      "2   0.059992                   (chicken)\n",
      "3   0.163845                 (chocolate)\n",
      "4   0.080389                   (cookies)\n",
      "5   0.051060               (cooking oil)\n",
      "6   0.179709                      (eggs)\n",
      "7   0.079323                  (escalope)\n",
      "8   0.170911              (french fries)\n",
      "9   0.063325           (frozen smoothie)\n",
      "10  0.095321         (frozen vegetables)\n",
      "11  0.052393             (grated cheese)\n",
      "12  0.132116                 (green tea)\n",
      "13  0.098254               (ground beef)\n",
      "14  0.076523            (low fat yogurt)\n",
      "15  0.129583                      (milk)\n",
      "16  0.238368             (mineral water)\n",
      "17  0.065858                 (olive oil)\n",
      "18  0.095054                  (pancakes)\n",
      "19  0.071457                    (shrimp)\n",
      "20  0.050527                      (soup)\n",
      "21  0.174110                 (spaghetti)\n",
      "22  0.068391                  (tomatoes)\n",
      "23  0.062525                    (turkey)\n",
      "24  0.058526          (whole wheat rice)\n",
      "25  0.052660  (mineral water, chocolate)\n",
      "26  0.050927       (mineral water, eggs)\n",
      "27  0.059725  (mineral water, spaghetti)\n"
     ]
    }
   ],
   "source": [
    "from mlxtend.frequent_patterns import apriori, association_rules\n",
    "\n",
    "#Apriori algorithm\n",
    "min_support = 0.05 #threshold\n",
    "frequent_itemsets = apriori(df_transformed, min_support=min_support, use_colnames=True)\n",
    "\n",
    "print(frequent_itemsets)\n"
   ]
  },
  {
   "cell_type": "code",
   "execution_count": 12,
   "metadata": {},
   "outputs": [
    {
     "name": "stdout",
     "output_type": "stream",
     "text": [
      "       antecedents      consequents  antecedent support  consequent support  \\\n",
      "0  (mineral water)      (chocolate)            0.238368            0.163845   \n",
      "1      (chocolate)  (mineral water)            0.163845            0.238368   \n",
      "2  (mineral water)           (eggs)            0.238368            0.179709   \n",
      "3           (eggs)  (mineral water)            0.179709            0.238368   \n",
      "4  (mineral water)      (spaghetti)            0.238368            0.174110   \n",
      "5      (spaghetti)  (mineral water)            0.174110            0.238368   \n",
      "\n",
      "    support  confidence      lift  leverage  conviction  zhangs_metric  \n",
      "0  0.052660    0.220917  1.348332  0.013604    1.073256       0.339197  \n",
      "1  0.052660    0.321400  1.348332  0.013604    1.122357       0.308965  \n",
      "2  0.050927    0.213647  1.188845  0.008090    1.043158       0.208562  \n",
      "3  0.050927    0.283383  1.188845  0.008090    1.062815       0.193648  \n",
      "4  0.059725    0.250559  1.439085  0.018223    1.102008       0.400606  \n",
      "5  0.059725    0.343032  1.439085  0.018223    1.159314       0.369437  \n"
     ]
    }
   ],
   "source": [
    "# extracting association rules\n",
    "min_confidence = 0.1  #minimum confidence threshold\n",
    "rules = association_rules(frequent_itemsets, metric=\"confidence\", min_threshold=min_confidence)\n",
    "print(rules)\n"
   ]
  },
  {
   "cell_type": "code",
   "execution_count": 14,
   "metadata": {},
   "outputs": [
    {
     "name": "stdout",
     "output_type": "stream",
     "text": [
      "       antecedents      consequents  antecedent support  consequent support  \\\n",
      "0  (mineral water)      (chocolate)            0.238368            0.163845   \n",
      "1      (chocolate)  (mineral water)            0.163845            0.238368   \n",
      "2  (mineral water)           (eggs)            0.238368            0.179709   \n",
      "3           (eggs)  (mineral water)            0.179709            0.238368   \n",
      "4  (mineral water)      (spaghetti)            0.238368            0.174110   \n",
      "5      (spaghetti)  (mineral water)            0.174110            0.238368   \n",
      "\n",
      "    support  confidence      lift  leverage  conviction  zhangs_metric  \n",
      "0  0.052660    0.220917  1.348332  0.013604    1.073256       0.339197  \n",
      "1  0.052660    0.321400  1.348332  0.013604    1.122357       0.308965  \n",
      "2  0.050927    0.213647  1.188845  0.008090    1.043158       0.208562  \n",
      "3  0.050927    0.283383  1.188845  0.008090    1.062815       0.193648  \n",
      "4  0.059725    0.250559  1.439085  0.018223    1.102008       0.400606  \n",
      "5  0.059725    0.343032  1.439085  0.018223    1.159314       0.369437  \n"
     ]
    }
   ],
   "source": [
    "#Filter rules by lift\n",
    "min_lift = 1.0  # Setting minimum lift threshold\n",
    "rules = rules[rules['lift'] >= min_lift]\n",
    "\n",
    "print(rules)\n"
   ]
  },
  {
   "cell_type": "markdown",
   "metadata": {},
   "source": [
    "Analysis and Interpretation"
   ]
  },
  {
   "cell_type": "markdown",
   "metadata": {},
   "source": [
    "1. Rule 1: Mineral water => chocolate\n",
    "    confidence = 0.2209\n",
    "    lift = 1.34\n",
    "    Customers who buy mineral water will buy chocolate 22.09% of the time. This is 1.35 times more likely than if they were bought independently.\n",
    "\n",
    "2. Rule 2: chocolate => water\n",
    "    confidence = 0.3214\n",
    "    lift = 1.34\n",
    "    Customers who buy chocolate also tend to buy mineral water 32.14% of the time. This is 1.35 times more likely than if they were bought independently. This further confirms the relationship seen in Rule 1.\n",
    "\n",
    "3. Rule 3: mineral water => eggs\n",
    "    confidence = 0.2136\n",
    "    lift = 1.18\n",
    "    Customers who buy mineral water also tend to buy eggs 21.36% of the time. This is 1.19 times more likely than if they were bought independently.\n",
    "\n",
    "4. Rule 4: eggs => mineral water\n",
    "    Confidence: 0.2833\n",
    "    Lift: 1.18\n",
    "    Customers who buy eggs also tend to buy mineral water 28.34% of the time. This is 1.19 times more likely than if they were bought independently. This supports the relationship seen in Rule 3.\n",
    "\n",
    "5. Rule 5: mineral water => spaghetti\n",
    "    Confidence: 0.2505\n",
    "    Lift: 1.43\n",
    "    Customers who buy mineral water also tend to buy spaghetti 25.06% of the time. This is 1.44 times more likely than if they were bought independently\n",
    "\n",
    "6. spaghetti => mineral water\n",
    "    Confidence: 0.3430\n",
    "    Lift: 1.43\n",
    "    Customers who buy spaghetti also tend to buy mineral water 34.30% of the time. This is 1.44 times more likely than if they were bought independently. This confirms the relationship seen in Rule 5."
   ]
  },
  {
   "cell_type": "markdown",
   "metadata": {},
   "source": [
    "Customer Purchasing Behavior Insights\n",
    "Mineral Water as a Central Product:\n",
    "\n",
    "Mineral water is frequently associated with multiple products (chocolate, eggs, spaghetti).\n",
    "\n",
    "Chocolates and Mineral Water:\n",
    "\n",
    "There's a notable association between chocolate and mineral water.\n",
    "\n",
    "Eggs and Mineral Water:\n",
    "\n",
    "While the association is weaker than with chocolate or spaghetti, it still exists. "
   ]
  },
  {
   "cell_type": "markdown",
   "metadata": {},
   "source": [
    "# Interview questions"
   ]
  },
  {
   "cell_type": "markdown",
   "metadata": {},
   "source": [
    "1.\tWhat is lift and why is it important in Association rules?\n",
    "\n",
    "Lift measures the strength of an association between itemsets in association rule mining.\n",
    "importance:\n",
    "Identifies Strong Associations: Highlights significant item relationships.\n",
    "Filters Meaningful Rules: Goes beyond support and confidence to find truly interesting rules\n",
    "Guides Marketing: Informs effective promotions and product placements."
   ]
  },
  {
   "cell_type": "markdown",
   "metadata": {},
   "source": [
    "2.\tWhat is support and Confidence. How do you calculate them?\n",
    "\n",
    "Support: measures how often an itemset appears in the dataset\n",
    "formula = support(a) = transactions with A / total transactions\n",
    "\n",
    "confidence: measures how often items in the consquent appear in transactions that contain the antecedent.\n",
    "formula = confidence(a->b) = support(aUb) / support(a)"
   ]
  },
  {
   "cell_type": "markdown",
   "metadata": {},
   "source": [
    "3.\tWhat are some limitations or challenges of Association rules mining?\n",
    "\n",
    "High Dimensionality:\n",
    "\n",
    "With a large number of items, the number of possible rules to consider becomes vast, making it difficult to identify relevant and actionable rules.\n",
    "\n",
    "Need for Interpretation:\n",
    "\n",
    "Association rules provide correlations but do not imply causation. Interpreting the discovered rules requires domain knowledge and careful consideration of contextual factors.\n",
    "\n",
    "Choosing Appropriate Metrics:\n",
    "\n",
    "Selecting suitable metrics such as support, confidence, and lift is subjective and depends on the specific application and domain. Choosing inappropriate metrics can lead to the discovery of irrelevant or misleading rules."
   ]
  }
 ],
 "metadata": {
  "kernelspec": {
   "display_name": "Python 3 (ipykernel)",
   "language": "python",
   "name": "python3"
  },
  "language_info": {
   "codemirror_mode": {
    "name": "ipython",
    "version": 3
   },
   "file_extension": ".py",
   "mimetype": "text/x-python",
   "name": "python",
   "nbconvert_exporter": "python",
   "pygments_lexer": "ipython3",
   "version": "3.9.12"
  }
 },
 "nbformat": 4,
 "nbformat_minor": 2
}
