{
 "cells": [
  {
   "cell_type": "markdown",
   "metadata": {
    "id": "mXsVFJLbgRU2"
   },
   "source": [
    "# Python Programming Assignment\n"
   ]
  },
  {
   "cell_type": "markdown",
   "metadata": {
    "id": "0M4YuYIcgUXd"
   },
   "source": [
    "### Exercise 1: Prime numbers"
   ]
  },
  {
   "cell_type": "code",
   "execution_count": 9,
   "metadata": {
    "colab": {
     "base_uri": "https://localhost:8080/"
    },
    "id": "qG_MQolUgS2s",
    "outputId": "8c1cbc0e-bb92-4c80-dd0a-bb4b5d0f3649"
   },
   "outputs": [
    {
     "name": "stdout",
     "output_type": "stream",
     "text": [
      "Enter a number: 1\n",
      "Not Prime\n"
     ]
    }
   ],
   "source": [
    "num = int(input(\"Enter a number: \"))\n",
    "\n",
    "def is_prime(num):\n",
    "    if num <= 1:\n",
    "        return False\n",
    "    for i in range(2, int(num**0.5) + 1): #to find the square root of the num\n",
    "        if num % i == 0:\n",
    "            return False\n",
    "    return True\n",
    "\n",
    "\n",
    "# Check if the number is prime\n",
    "if is_prime(num):\n",
    "    print(\"Prime\")\n",
    "else:\n",
    "    print(\"Not Prime\")\n",
    "\n"
   ]
  },
  {
   "cell_type": "markdown",
   "metadata": {
    "id": "6ejmQdXihcdU"
   },
   "source": [
    "### Exercise 2: Product of Random Numbers"
   ]
  },
  {
   "cell_type": "code",
   "execution_count": 2,
   "metadata": {
    "colab": {
     "base_uri": "https://localhost:8080/"
    },
    "id": "2mqX8ccThird",
    "outputId": "efa171ba-26d9-4586-c8f5-46ee242de382"
   },
   "outputs": [
    {
     "name": "stdout",
     "output_type": "stream",
     "text": [
      "Random Number 1: 6\n",
      "Random Number 2: 9\n",
      "Product: 54\n"
     ]
    }
   ],
   "source": [
    "import random\n",
    "\n",
    "#random num generation between 1,10 can be increased or decreased\n",
    "num1 = random.randint(1, 10)\n",
    "num2 = random.randint(1, 10)\n",
    "\n",
    "# Calculate the product\n",
    "product = num1 * num2\n",
    "\n",
    "# Print the random numbers and their product\n",
    "print(\"Random Number 1:\", num1)\n",
    "print(\"Random Number 2:\", num2)\n",
    "print(\"Product:\", product)"
   ]
  },
  {
   "cell_type": "markdown",
   "metadata": {
    "id": "pP9Q-spWh0pW"
   },
   "source": [
    "### Exercise 3: Squares of Even/odd Numbers"
   ]
  },
  {
   "cell_type": "code",
   "execution_count": 3,
   "metadata": {
    "colab": {
     "base_uri": "https://localhost:8080/"
    },
    "id": "bNIY10k6h4s0",
    "outputId": "9147b707-53ee-4caa-8e72-75cc0430ad32"
   },
   "outputs": [
    {
     "name": "stdout",
     "output_type": "stream",
     "text": [
      "Square of  100 is 10000\n",
      "square of 101 is 10201\n",
      "Square of  102 is 10404\n",
      "square of 103 is 10609\n",
      "Square of  104 is 10816\n",
      "square of 105 is 11025\n",
      "Square of  106 is 11236\n",
      "square of 107 is 11449\n",
      "Square of  108 is 11664\n",
      "square of 109 is 11881\n",
      "Square of  110 is 12100\n",
      "square of 111 is 12321\n",
      "Square of  112 is 12544\n",
      "square of 113 is 12769\n",
      "Square of  114 is 12996\n",
      "square of 115 is 13225\n",
      "Square of  116 is 13456\n",
      "square of 117 is 13689\n",
      "Square of  118 is 13924\n",
      "square of 119 is 14161\n",
      "Square of  120 is 14400\n",
      "square of 121 is 14641\n",
      "Square of  122 is 14884\n",
      "square of 123 is 15129\n",
      "Square of  124 is 15376\n",
      "square of 125 is 15625\n",
      "Square of  126 is 15876\n",
      "square of 127 is 16129\n",
      "Square of  128 is 16384\n",
      "square of 129 is 16641\n",
      "Square of  130 is 16900\n",
      "square of 131 is 17161\n",
      "Square of  132 is 17424\n",
      "square of 133 is 17689\n",
      "Square of  134 is 17956\n",
      "square of 135 is 18225\n",
      "Square of  136 is 18496\n",
      "square of 137 is 18769\n",
      "Square of  138 is 19044\n",
      "square of 139 is 19321\n",
      "Square of  140 is 19600\n",
      "square of 141 is 19881\n",
      "Square of  142 is 20164\n",
      "square of 143 is 20449\n",
      "Square of  144 is 20736\n",
      "square of 145 is 21025\n",
      "Square of  146 is 21316\n",
      "square of 147 is 21609\n",
      "Square of  148 is 21904\n",
      "square of 149 is 22201\n",
      "Square of  150 is 22500\n",
      "square of 151 is 22801\n",
      "Square of  152 is 23104\n",
      "square of 153 is 23409\n",
      "Square of  154 is 23716\n",
      "square of 155 is 24025\n",
      "Square of  156 is 24336\n",
      "square of 157 is 24649\n",
      "Square of  158 is 24964\n",
      "square of 159 is 25281\n",
      "Square of  160 is 25600\n",
      "square of 161 is 25921\n",
      "Square of  162 is 26244\n",
      "square of 163 is 26569\n",
      "Square of  164 is 26896\n",
      "square of 165 is 27225\n",
      "Square of  166 is 27556\n",
      "square of 167 is 27889\n",
      "Square of  168 is 28224\n",
      "square of 169 is 28561\n",
      "Square of  170 is 28900\n",
      "square of 171 is 29241\n",
      "Square of  172 is 29584\n",
      "square of 173 is 29929\n",
      "Square of  174 is 30276\n",
      "square of 175 is 30625\n",
      "Square of  176 is 30976\n",
      "square of 177 is 31329\n",
      "Square of  178 is 31684\n",
      "square of 179 is 32041\n",
      "Square of  180 is 32400\n",
      "square of 181 is 32761\n",
      "Square of  182 is 33124\n",
      "square of 183 is 33489\n",
      "Square of  184 is 33856\n",
      "square of 185 is 34225\n",
      "Square of  186 is 34596\n",
      "square of 187 is 34969\n",
      "Square of  188 is 35344\n",
      "square of 189 is 35721\n",
      "Square of  190 is 36100\n",
      "square of 191 is 36481\n",
      "Square of  192 is 36864\n",
      "square of 193 is 37249\n",
      "Square of  194 is 37636\n",
      "square of 195 is 38025\n",
      "Square of  196 is 38416\n",
      "square of 197 is 38809\n",
      "Square of  198 is 39204\n",
      "square of 199 is 39601\n",
      "Square of  200 is 40000\n"
     ]
    }
   ],
   "source": [
    "for num in range(100, 201):\n",
    "    # Check if the number is even\n",
    "    if num % 2 == 0:\n",
    "        # Print the square of the even number\n",
    "        print(\"Square of \",num,\"is\",num ** 2 )\n",
    "    else:\n",
    "        # Print the square of the odd number\n",
    "        print(\"square of\",num,\"is\",num ** 2)\n"
   ]
  },
  {
   "cell_type": "markdown",
   "metadata": {
    "id": "ZiktlFdNiEoa"
   },
   "source": [
    "### Exercise 4: Word Counter"
   ]
  },
  {
   "cell_type": "code",
   "execution_count": 6,
   "metadata": {
    "colab": {
     "base_uri": "https://localhost:8080/"
    },
    "id": "t2OvTBwfiHns",
    "outputId": "390c527a-381f-433d-9a9e-682973399bb8"
   },
   "outputs": [
    {
     "name": "stdout",
     "output_type": "stream",
     "text": [
      "Enter a text: This is a sentence.This is to test whether this program works properly\n",
      "'This': 1\n",
      "'is': 2\n",
      "'a': 1\n",
      "'sentence.This': 1\n",
      "'to': 1\n",
      "'test': 1\n",
      "'whether': 1\n",
      "'this': 1\n",
      "'program': 1\n",
      "'works': 1\n",
      "'properly': 1\n"
     ]
    }
   ],
   "source": [
    "#user input\n",
    "input_text = input(\"Enter a text: \")\n",
    "\n",
    "words = input_text.split()\n",
    "\n",
    "word_counts = {}\n",
    "\n",
    "# Count the occurrences of each word\n",
    "for word in words:\n",
    "    word_counts[word] = word_counts.get(word, 0) + 1 #increase the count by 1 each time the word is encountered\n",
    "\n",
    "#print the count\n",
    "for word, count in word_counts.items():\n",
    "    print(f\"'{word}': {count}\")\n"
   ]
  },
  {
   "cell_type": "markdown",
   "metadata": {
    "id": "7vzi8iWqidSF"
   },
   "source": [
    "Exercise 5: Check for Palindrome"
   ]
  },
  {
   "cell_type": "code",
   "execution_count": 8,
   "metadata": {
    "colab": {
     "base_uri": "https://localhost:8080/"
    },
    "id": "8F9R6knGigo0",
    "outputId": "4f8ae2ed-2c69-4bee-9224-9ac76863809a"
   },
   "outputs": [
    {
     "name": "stdout",
     "output_type": "stream",
     "text": [
      "Enter a string: abbbba\n",
      "Palindrome\n"
     ]
    }
   ],
   "source": [
    "string = input(\"Enter a string: \")\n",
    "\n",
    "if string == string[::-1]: #string[::-1]reverses the string and checks if its same as the original string\n",
    "    print(\"Palindrome\")\n",
    "else:\n",
    "    print(\"Not a Palindrome\")\n"
   ]
  }
 ],
 "metadata": {
  "colab": {
   "provenance": []
  },
  "kernelspec": {
   "display_name": "Python 3 (ipykernel)",
   "language": "python",
   "name": "python3"
  },
  "language_info": {
   "codemirror_mode": {
    "name": "ipython",
    "version": 3
   },
   "file_extension": ".py",
   "mimetype": "text/x-python",
   "name": "python",
   "nbconvert_exporter": "python",
   "pygments_lexer": "ipython3",
   "version": "3.9.12"
  }
 },
 "nbformat": 4,
 "nbformat_minor": 1
}
